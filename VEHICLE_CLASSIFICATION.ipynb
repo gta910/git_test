{
 "cells": [
  {
   "cell_type": "markdown",
   "metadata": {},
   "source": [
    "# VEHICLE CLASSIFICATION\n",
    "\n",
    "## Author: Gina Torres\n",
    "## Date Creation : 29-05-2020\n",
    "## Dates Version: \n",
    "    - 10-06-2020 (Edition of appearance)\n",
    "\n",
    "The main objective of this model is to perform a detailed analysis of the vehicles in the data set. The analysis focuses in differences per lane and per time scale (monthly, daily and  hourly). The results of this model help to get an idea of the behaviour of traffic in different days (week days,  weekends or even national holidays) and help to determine which day is able represent best the behaviour of the entire month in order to create a synthetic data series.\n",
    "\n",
    "Also, it involves the analysis the vehicle classification (per category) of the different vehicles. Also per lane and per time scale."
   ]
  },
  {
   "cell_type": "markdown",
   "metadata": {},
   "source": [
    "- Input: \n",
    "    - WIM Dataset (csv file) (For one month)\n",
    "- Output:\n",
    "    - Monthly analysis:\n",
    "        - FREQUENCY_MONTHLY_NEWSUBCAT\n",
    "            - csv file with monthly count of vehicles in the entire month per category.\n",
    "        - PROPORTION_MONTHLY_NEWSUBCAT\n",
    "            - csv file with monthly proportion of vehicles in the entire month.\n",
    "        - BARPLOT_MONTHLY_NEWSUBCAT\n",
    "            - Barplot for every category including its frequency.\n",
    "        - Same monthly analysis but for lane 3 and lane 3:\n",
    "            - L2_FREQUENCY_MONTHLY_NEWSUBCAT (for L3  just replace L2 for L3)\n",
    "            - L2_PROPORTION_MONTHLY_NEWSUBCAT (“’)\n",
    "            - L2_BARPLOT_MONTHLY_NEWSUBCAT (“’)\n",
    "    - Daily analysis (Performed for each lane):\n",
    "        - L2_BARPLOT_DAILY_NEWSUBCAT_#day (same for L3)\n",
    "            - Barplot of category including its frequency for each day of the month.\n",
    "        - L2_DAILY_NEWSUBCAT (same for L3)\n",
    "            - csv file with daily count of vehicles per category per lane.\n",
    "    - Hourly Analysis\n",
    "        - L2_HOURLY_NEWSUBCAT1_#day (same for L3)\n",
    "            - csv file with hourly count of vehicles per category per lane per day."
   ]
  },
  {
   "cell_type": "code",
   "execution_count": 1,
   "metadata": {},
   "outputs": [
    {
     "data": {
      "text/html": [
       "'C:/Users/ginatorresalve/Desktop/PhD/PROGRAMMING/R/TRAFFIC1'"
      ],
      "text/latex": [
       "'C:/Users/ginatorresalve/Desktop/PhD/PROGRAMMING/R/TRAFFIC1'"
      ],
      "text/markdown": [
       "'C:/Users/ginatorresalve/Desktop/PhD/PROGRAMMING/R/TRAFFIC1'"
      ],
      "text/plain": [
       "[1] \"C:/Users/ginatorresalve/Desktop/PhD/PROGRAMMING/R/TRAFFIC1\""
      ]
     },
     "metadata": {},
     "output_type": "display_data"
    }
   ],
   "source": [
    "graphics.off()\n",
    "rm(list = ls())\n",
    "getwd()"
   ]
  },
  {
   "cell_type": "markdown",
   "metadata": {},
   "source": [
    "## LOADING LIBRARIES"
   ]
  },
  {
   "cell_type": "code",
   "execution_count": 2,
   "metadata": {},
   "outputs": [
    {
     "name": "stderr",
     "output_type": "stream",
     "text": [
      "Warning message:\n",
      "\"package 'ggplot2' was built under R version 3.6.3\"Warning message:\n",
      "\"package 'chron' was built under R version 3.6.3\"NOTE: The default cutoff when expanding a 2-digit year\n",
      "to a 4-digit year will change from 30 to 69 by Aug 2020\n",
      "(as for Date and POSIXct in base R.)\n",
      "\n",
      "Attaching package: 'dplyr'\n",
      "\n",
      "The following objects are masked from 'package:stats':\n",
      "\n",
      "    filter, lag\n",
      "\n",
      "The following objects are masked from 'package:base':\n",
      "\n",
      "    intersect, setdiff, setequal, union\n",
      "\n",
      "\n",
      "Attaching package: 'lubridate'\n",
      "\n",
      "The following objects are masked from 'package:chron':\n",
      "\n",
      "    days, hours, minutes, seconds, years\n",
      "\n",
      "The following object is masked from 'package:base':\n",
      "\n",
      "    date\n",
      "\n"
     ]
    }
   ],
   "source": [
    "library(ggplot2) #for plotting\n",
    "library(chron)  #for working with dates \n",
    "library(dplyr)  #used for \"select\"\n",
    "library(lubridate)  "
   ]
  },
  {
   "cell_type": "markdown",
   "metadata": {},
   "source": [
    "## ADD PATHS/ DIRECTORY"
   ]
  },
  {
   "cell_type": "code",
   "execution_count": 3,
   "metadata": {},
   "outputs": [
    {
     "data": {
      "text/html": [
       "'C:/Users/ginatorresalve/Desktop/PhD/PROJECTS/MARCEL_COLABORATION/TRAFFIC/DATA_TEST/RW_12L_April2013_NS.csv'"
      ],
      "text/latex": [
       "'C:/Users/ginatorresalve/Desktop/PhD/PROJECTS/MARCEL\\_COLABORATION/TRAFFIC/DATA\\_TEST/RW\\_12L\\_April2013\\_NS.csv'"
      ],
      "text/markdown": [
       "'C:/Users/ginatorresalve/Desktop/PhD/PROJECTS/MARCEL_COLABORATION/TRAFFIC/DATA_TEST/RW_12L_April2013_NS.csv'"
      ],
      "text/plain": [
       "[1] \"C:/Users/ginatorresalve/Desktop/PhD/PROJECTS/MARCEL_COLABORATION/TRAFFIC/DATA_TEST/RW_12L_April2013_NS.csv\""
      ]
     },
     "metadata": {},
     "output_type": "display_data"
    }
   ],
   "source": [
    "#Path for data location\n",
    "path_d<-\"C:/Users/ginatorresalve/Desktop/PhD/PROJECTS/MARCEL_COLABORATION/TRAFFIC/DATA_TEST/\"\n",
    "\n",
    "# Path for results location\n",
    "path_results<-\"C:/Users/ginatorresalve/Desktop/PhD/PROGRAMMING/R/TRAFFIC1/RESULTS/CLASSIFICATION/\"\n",
    "path_results_d<-\"C:/Users/ginatorresalve/Desktop/PhD/PROGRAMMING/R/TRAFFIC1/RESULTS/CLASSIFICATION/DAILY/\"\n",
    "\n",
    "#Creation of full path of the dataset\n",
    "name_file<-\"RW_12L_April2013_NS.csv\"\n",
    "path_data<-paste(path_d,name_file, sep='')\n",
    "path_data\n",
    "\n",
    "# Set path for work\n",
    "setwd(path_results)\n"
   ]
  },
  {
   "cell_type": "markdown",
   "metadata": {},
   "source": [
    "## LOADING DATA"
   ]
  },
  {
   "cell_type": "code",
   "execution_count": 4,
   "metadata": {},
   "outputs": [],
   "source": [
    "data<-read.csv(path_data)\n",
    "# head(data)\n",
    "# tail(data)\n",
    "#str(data)"
   ]
  },
  {
   "cell_type": "markdown",
   "metadata": {},
   "source": [
    "## PREPARATION OF DATA"
   ]
  },
  {
   "cell_type": "code",
   "execution_count": 5,
   "metadata": {},
   "outputs": [],
   "source": [
    "#That number is substracted in order to get the correct starting date in the data set. In excel works well but here neede that\n",
    "# The number was found by trial and error\n",
    "\n",
    "data$TIME_OK<- data$TIME-719527\n",
    "\n",
    "#converting to date format\n",
    "data$TIME_DATE<-as_date(data$TIME_OK)\n",
    "\n",
    "#converting to date format\n",
    "as_datetime <- function(x) as.POSIXct(\"1970-01-01\") + as.difftime(x, units = \"days\")  #1970 is the origin for R but for excel is 1900\n",
    "data$TIME_ALL<-as_datetime(data$TIME_OK)\n",
    "\n",
    "# Create a column for days, hours and the respective day of the week \n",
    "data$month<- month(data$TIME_ALL)\n",
    "data$day<- day(data$TIME_ALL)  #column day is an integer\n",
    "data$hour<- hour(data$TIME_ALL) \n",
    "data$DAY_WEEK<-weekdays(data$TIME_ALL)\n",
    "\n",
    "# Just select data that is needed. We don't need axle data\n",
    "data<-select(data,'TIME_OK','TIME_DATE','TIME_ALL','DAY_WEEK','month','day','hour','LANE','SPEED','NEWSUBCAT','SUBCAT')\n",
    "\n",
    "#data set goes from 03-04-2013 to 03-05-2013 so we can eliminate May (month =5)\n",
    "data<-select(filter(data, month==4), c('TIME_OK','TIME_DATE','TIME_ALL','DAY_WEEK','day','hour','LANE','SPEED','NEWSUBCAT','SUBCAT'))\n",
    "\n",
    "#Days of the month to analyze\n",
    "day_s<-c(3:30)\n",
    "\n",
    "#prelocated lists \n",
    "days<-list() \n",
    "l2<-list()\n",
    "l3<-list()\n",
    "\n",
    "#just a vector of zeros to prelocate the names of the days\n",
    "day_nam<-rep(0,length(day_s))  \n",
    "\n",
    "for (i in 1:length(day_s)) \n",
    "{\n",
    "    day_nam[i]<-paste('day',day_s[i],sep='')\n",
    "    days[[day_nam[i]]]<-select(filter(data, day == day_s[i]), c('TIME_OK','TIME_DATE','TIME_ALL','DAY_WEEK','day','hour','LANE','SPEED','NEWSUBCAT','SUBCAT'))\n",
    "#     print(x<-dim(as.data.frame(days[[day_nam[i]]]))) #activate to see total num data per day\n",
    "\n",
    "    #Extraction daily data into lanes\n",
    "    l2[[day_nam[i]]]<-select(filter(days[[day_nam[i]]], LANE == 'RW-12-L-2'), c('TIME_OK','TIME_DATE','TIME_ALL','DAY_WEEK','day','hour','LANE','SPEED','NEWSUBCAT','SUBCAT'))\n",
    "    l3[[day_nam[i]]]<-select(filter(days[[day_nam[i]]], LANE == 'RW-12-L-3'), c('TIME_OK','TIME_DATE','TIME_ALL','DAY_WEEK','day','hour','LANE','SPEED','NEWSUBCAT','SUBCAT'))\n",
    "\n",
    "}\n",
    "\n",
    "#separation of entire data set into lanes\n",
    "l2_tot<-select(filter(data, LANE == 'RW-12-L-2'), c('TIME_OK','TIME_DATE','TIME_ALL','DAY_WEEK','day','hour','LANE','SPEED','NEWSUBCAT','SUBCAT'))\n",
    "l3_tot<-select(filter(data, LANE == 'RW-12-L-3'), c('TIME_OK','TIME_DATE','TIME_ALL','DAY_WEEK','day','hour','LANE','SPEED','NEWSUBCAT','SUBCAT'))\n"
   ]
  },
  {
   "cell_type": "markdown",
   "metadata": {},
   "source": [
    "## MONTHLY CLASSIFICATION"
   ]
  },
  {
   "cell_type": "code",
   "execution_count": 6,
   "metadata": {},
   "outputs": [
    {
     "data": {
      "image/png": "[encoded data removed]",
      "text/plain": [
       "plot without title"
      ]
     },
     "metadata": {},
     "output_type": "display_data"
    },
    {
     "data": {
      "image/png": "[encoded data removed]",
      "text/plain": [
       "plot without title"
      ]
     },
     "metadata": {},
     "output_type": "display_data"
    },
    {
     "data": {
      "image/png": "[encoded data removed]",
      "text/plain": [
       "plot without title"
      ]
     },
     "metadata": {},
     "output_type": "display_data"
    }
   ],
   "source": [
    "# Exploring all the categories of vechicles\n",
    "cat<-unique(data['NEWSUBCAT'])\n",
    "cat<-as.character(cat[,1])\n",
    "num_cat<-length(cat)\n",
    "\n",
    "##################### ENTIRE MONTH ####################\n",
    "\n",
    "#Counting per NEWSUBCAT and SUBCAT. Using table():\n",
    "\n",
    "class_newsubcat<-table(data['NEWSUBCAT'])\n",
    "write.table(class_newsubcat,file=paste0(path_results,\"FREQUENCY_MONTHLY_NEWSUBCAT\",\".csv\"),sep=\",\",col.names=F, row.names=F)\n",
    "\n",
    "#Table of NEWSUBCAT proportion over the whole sample (This will be used to create the sampling)\n",
    "\n",
    "proportion<-as.data.frame(class_newsubcat/dim(data)[1])\n",
    "write.table(proportion,file=paste0(path_results,\"PROPORTION_MONTHLY_NEWSUBCAT\",\".csv\"),sep=\",\",col.names=F, row.names=F)\n",
    "\n",
    "# Visualization barplot of NEWSUBCAT\n",
    "ggplot(data=data,aes(x=NEWSUBCAT, fill= NEWSUBCAT)) + \n",
    "geom_bar(aes(y=(..count..))) + \n",
    "labs(x=\"Category\", y=\"Number of cars\") +\n",
    "coord_flip() +\n",
    "geom_text(stat='count', aes(label=..count..), hjust = 0.2, color = \"black\",size = 3.5) +\n",
    "theme_classic() +\n",
    "theme(legend.position = \"none\") +\n",
    "ggsave(path = path_results, filename = paste('BARPLOT_MONTHLY_NEWSUBCAT.png',sep=''),width=7, height=5) \n",
    "\n",
    "################# ENTIRE MONTH PER LANE #########################\n",
    "\n",
    "######## L2 ##################\n",
    "class_newsubcat_l2<-table(l2_tot['NEWSUBCAT'])\n",
    "write.table(class_newsubcat_l2,file=paste0(path_results,\"L2_FREQUENCY_MONTHLY_NEWSUBCAT\",\".csv\"),sep=\",\",col.names=F, row.names=F)\n",
    "\n",
    "#Table proportion\n",
    "proportion_l2<-as.data.frame(class_newsubcat_l2/dim(l2_tot)[1])\n",
    "write.table(proportion_l2,file=paste0(path_results,\"L2_PROPORTION_MONTHLY_NEWSUBCAT\",\".csv\"),sep=\",\",col.names=F, row.names=F)\n",
    "\n",
    "# Visualization barplot of NEWSUBCAT\n",
    "ggplot(data=l2_tot,aes(x=NEWSUBCAT, fill= NEWSUBCAT)) + \n",
    "geom_bar(aes(y=(..count..))) + \n",
    "labs(x=\"Category\", y=\"Number of cars\") +\n",
    "coord_flip() +\n",
    "geom_text(stat='count', aes(label=..count..), hjust = 0.2, color = \"black\",size = 3.5) +\n",
    "theme_classic() +\n",
    "theme(legend.position = \"none\") +\n",
    "ggsave(path = path_results, filename = paste('L2_BARPLOT_MONTHLY_NEWSUBCAT.png',sep=''),width=7, height=5) \n",
    "\n",
    "######## L3 ##################\n",
    "class_newsubcat_l3<-table(l3_tot['NEWSUBCAT'])\n",
    "write.table(class_newsubcat_l3,file=paste0(path_results,\"L3_FREQUENCY_MONTHLY_NEWSUBCAT\",\".csv\"),sep=\",\",col.names=F, row.names=F)\n",
    "\n",
    "#Table proportion\n",
    "proportion_l3<-as.data.frame(class_newsubcat_l3/dim(l3_tot)[1])\n",
    "write.table(proportion_l3,file=paste0(path_results,\"L3_PROPORTION_MONTHLY_NEWSUBCAT\",\".csv\"),sep=\",\",col.names=F, row.names=F)\n",
    "\n",
    "# Visualization barplot of NEWSUBCAT\n",
    "ggplot(data=l3_tot,aes(x=NEWSUBCAT, fill= NEWSUBCAT)) + \n",
    "geom_bar(aes(y=(..count..))) + \n",
    "labs(x=\"Category\", y=\"Number of cars\") +\n",
    "coord_flip() +\n",
    "geom_text(stat='count', aes(label=..count..), hjust = 0.2, color = \"black\",size = 3.5) +\n",
    "theme_classic() +\n",
    "theme(legend.position = \"none\") +\n",
    "ggsave(path = path_results, filename = paste('L3_BARPLOT_MONTHLY_NEWSUBCAT.png',sep=''),width=7, height=5) "
   ]
  },
  {
   "cell_type": "markdown",
   "metadata": {},
   "source": [
    "## DAILY ANALYSIS"
   ]
  },
  {
   "cell_type": "code",
   "execution_count": 7,
   "metadata": {},
   "outputs": [],
   "source": [
    "#prelocate lists\n",
    "c_newsubcat_l2<-list()\n",
    "c_newsubcat_l3<-list()\n",
    "\n",
    "for (i in 1:length(day_s)) \n",
    "{\n",
    "    ############ L2 ####################\n",
    "\n",
    "    #Counting per NEWSUBCAT. Using table():\n",
    "    c_newsubcat_l2[[day_nam[i]]]<-table(l2[[day_nam[i]]]['NEWSUBCAT'])\n",
    "    \n",
    "    #Visualization barplot of NEWSUBCAT\n",
    "    g<-ggplot(data=l2[[day_nam[i]]],aes(x=NEWSUBCAT, fill= NEWSUBCAT)) + \n",
    "    geom_bar(aes(y=(..count..))) + \n",
    "    labs(x=\"Category\", y=\"Number of cars\") +\n",
    "    coord_flip() +\n",
    "    geom_text(stat='count', aes(label=..count..), hjust = 0.2, color = \"black\",size = 3.5) +\n",
    "    theme_classic() +\n",
    "    theme(legend.position = \"none\") +\n",
    "    ggsave(path = path_results_d, filename = paste('L2_BARPLOT_DAILY_NEWSUBCAT_',day_nam[i],'.png',sep=''),width=7, height=5) \n",
    "\n",
    "    ############ L3 ####################\n",
    "    \n",
    "    #Counting per NEWSUBCAT. Using table():\n",
    "    c_newsubcat_l3[[day_nam[i]]]<-table(l3[[day_nam[i]]]['NEWSUBCAT'])\n",
    "\n",
    "    #Visualization barplot of NEWSUBCAT\n",
    "    g<-ggplot(data=l3[[day_nam[i]]],aes(x=NEWSUBCAT, fill= NEWSUBCAT)) + \n",
    "    geom_bar(aes(y=(..count..))) + \n",
    "    labs(x=\"Category\", y=\"Number of cars\") +\n",
    "    coord_flip() +\n",
    "    geom_text(stat='count', aes(label=..count..), hjust = 0.2, color = \"black\",size = 3.5) +\n",
    "    theme_classic() +\n",
    "    theme(legend.position = \"none\") +\n",
    "    ggsave(path = path_results_d, filename = paste('L3_BARPLOT_DAILY_NEWSUBCAT_',day_nam[i],'.png',sep=''),width=7, height=5) \n",
    "}\n",
    "\n",
    "#Combining all in one matrix and exporting\n",
    "output <- matrix(unlist(c_newsubcat_l2), ncol = length(day_s), byrow = F)\n",
    "output1<- matrix(unlist(c_newsubcat_l3), ncol = length(day_s), byrow = F)\n",
    "\n",
    "write.table(output,file=paste0(path_results_d,\"L2_DAILY_NEWSUBCAT\",\".csv\"),sep=\",\",col.names=F, row.names=F)\n",
    "write.table(output1,file=paste0(path_results_d,\"L3_DAILY_NEWSUBCAT\",\".csv\"),sep=\",\",col.names=F, row.names=F)\n",
    "# rows : vehicle type, columns : day"
   ]
  },
  {
   "cell_type": "markdown",
   "metadata": {},
   "source": [
    "## DAILY ANALYSIS: FITTING DAILY AMOUNT OF VEHICLES"
   ]
  },
  {
   "cell_type": "code",
   "execution_count": 8,
   "metadata": {},
   "outputs": [
    {
     "data": {
      "image/png": "[encoded data removed]",
      "text/plain": [
       "plot without title"
      ]
     },
     "metadata": {},
     "output_type": "display_data"
    },
    {
     "data": {
      "image/png": "[encoded data removed]",
      "text/plain": [
       "plot without title"
      ]
     },
     "metadata": {},
     "output_type": "display_data"
    },
    {
     "data": {
      "image/png": "[encoded data removed]",
      "text/plain": [
       "plot without title"
      ]
     },
     "metadata": {},
     "output_type": "display_data"
    },
    {
     "data": {
      "image/png": "[encoded data removed]",
      "text/plain": [
       "plot without title"
      ]
     },
     "metadata": {},
     "output_type": "display_data"
    }
   ],
   "source": [
    "# We pick only week days and no holidays\n",
    "day_fit<-c(4,10,11,17,18,24,25)\n",
    "df_nam<-as.character(day_fit)\n",
    "\n",
    "#prelocate lists\n",
    "l2_dim<-list()\n",
    "l3_dim<-list()\n",
    "\n",
    "#extract the dimensions (# cars) for each day\n",
    "for (i in 1:length(day_fit)) \n",
    "{\n",
    "    ############# L2 ################\n",
    "    l2_dim[[df_nam[i]]]<-dim(select(filter(l2_tot, day== day_fit[i]), c('NEWSUBCAT')))[1]\n",
    "#     print(l2_fit[[df_nam[i]]])\n",
    "    #############L3 #################\n",
    "    l3_dim[[df_nam[i]]]<-dim(select(filter(l3_tot, day== day_fit[i]), c('NEWSUBCAT')))[1]\n",
    "#     print(l3_fit[[df_nam[i]]])\n",
    "    }\n",
    "\n",
    "output <- matrix(unlist(l2_dim), ncol = 1, byrow = F)\n",
    "output1 <- matrix(unlist(l3_dim), ncol = 1, byrow = F)\n",
    "\n",
    "#Saving the outputs\n",
    "write.table(output,file=paste0(path_results_d,\"DAY_VEHICLES_L2\",\".csv\"),sep=\";\",col.names=F, row.names=F)\n",
    "write.table(output1,file=paste0(path_results_d,\"DAY_VEHICLES_L3\",\".csv\"),sep=\";\",col.names=F, row.names=F)\n",
    "\n",
    "#Computing the ECDF'S\n",
    "f  <-ecdf(output)\n",
    "f1  <-ecdf(output1)\n",
    "\n",
    "fi<-sort(f(output))  #sorting quantiles ascending\n",
    "fi1<-sort(f(output1))  #sorting quantiles ascendi\n",
    "\n",
    "#converting the vectors into dataframes for plotting\n",
    "dat <-data.frame(values=output) \n",
    "dat1 <-data.frame(values=output1) \n",
    "\n",
    "################################ PLOTTING OF AND EPDF'S, ECDF'S ##############################\n",
    "ggplot(dat, aes(values)) + \n",
    "stat_ecdf(geom = \"step\", color='red') +\n",
    "labs(x=\"Number of vehicles\", y=\"F(x)\") +\n",
    "ggsave(path = path_results_d, filename = paste('L2_ECDF_DAILYFIT','.png',sep=''),width=7, height=5)\n",
    "\n",
    "ggplot(dat1, aes(values)) + \n",
    "stat_ecdf(geom = \"step\", color='red') +\n",
    "labs(x=\"Number of vehicles\", y=\"F(x)\") +\n",
    "ggsave(path = path_results_d, filename = paste('L3_ECDF_DAILYFIT','.png',sep=''),width=7, height=5)\n",
    "\n",
    "ggplot(dat, aes(values)) + \n",
    "stat_density(geom = \"step\", color='red') +\n",
    "labs(x=\"Number of vehicles\", y=\"f(x)\") +\n",
    "ggsave(path = path_results_d, filename = paste('L2_EPDF_DAILYFIT','.png',sep=''),width=7, height=5)\n",
    "\n",
    "ggplot(dat1, aes(values)) + \n",
    "stat_density(geom = \"step\", color='red') +\n",
    "labs(x=\"Number of vehicles\", y=\"f(x)\") +\n",
    "ggsave(path = path_results_d, filename = paste('L3_EPDF_DAILYFIT','.png',sep=''),width=7, height=5)\n",
    "\n",
    "# By the looks of the pdf and Ecdf, I rather sample from the empirical function and not fit it to any distribution now."
   ]
  },
  {
   "cell_type": "markdown",
   "metadata": {},
   "source": [
    "## HOURLY ANALYSIS"
   ]
  },
  {
   "cell_type": "code",
   "execution_count": 39,
   "metadata": {
    "scrolled": false
   },
   "outputs": [],
   "source": [
    "#Hours of the day\n",
    "hour1<-c(0:23)\n",
    "# Comverting the days into characters (used as names for lists)\n",
    "hour_nam<-as.character(hour1)\n",
    "\n",
    "#prelocate lists\n",
    "h_l2 <-list()  \n",
    "h_l3 <-list()      \n",
    "c_h_l2<-list()\n",
    "c_h_l3<-list()\n",
    "output<-list()\n",
    "output1<-list()\n",
    "\n",
    "#Loop over days\n",
    "for (i in 1:length(day_s)) \n",
    "{\n",
    "    #Loop over hours\n",
    "    for (j in 1:length(hour1))\n",
    "        {\n",
    "\n",
    "        #Extraction categories per hour\n",
    "        h_l2[[hour_nam[j]]]<-select(filter(l2[[day_nam[i]]], hour == hour1[j] ), c('NEWSUBCAT'))\n",
    "        # Count of vehicles per hour in a given day\n",
    "        c_h_l2[[hour_nam[j]]]<-table(h_l2[[hour_nam[j]]]['NEWSUBCAT'])\n",
    "\n",
    "        h_l3[[hour_nam[j]]]<-select(filter(l3[[day_nam[i]]], hour == hour1[j] ), c('NEWSUBCAT'))\n",
    "        c_h_l3[[hour_nam[j]]]<-table(h_l3[[hour_nam[j]]]['NEWSUBCAT'])\n",
    "    }\n",
    "    \n",
    "    #columns:hours rows: types of vehicles\n",
    "    output[[day_nam[i]]] <- matrix(unlist(c_h_l2), ncol = length(hour1), byrow = F)\n",
    "    output1[[day_nam[i]]]<- matrix(unlist(c_h_l3), ncol = length(hour1), byrow = F)\n",
    "    \n",
    "    #HOURS (ROWS) DAYS (COLUMNS)\n",
    "    write.table(output[[day_nam[i]]],file=paste0(path_results_d,\"L2_HOURLY_NEWSUBCAT1_\",day_nam[i],\".csv\"),sep=\",\",col.names=F, row.names=F)\n",
    "    write.table(output1[[day_nam[i]]],file=paste0(path_results_d,\"L3_HOURLY_NEWSUBCAT1_\",day_nam[i],\".csv\"),sep=\",\",col.names=F, row.names=F)\n",
    "}\n"
   ]
  },
  {
   "cell_type": "code",
   "execution_count": 42,
   "metadata": {},
   "outputs": [
    {
     "data": {
      "text/plain": [
       "[1] \"2020-06-12 17:11:04 CEST\""
      ]
     },
     "metadata": {},
     "output_type": "display_data"
    }
   ],
   "source": [
    "# END\n",
    "Sys.time()"
   ]
  },
  {
   "cell_type": "code",
   "execution_count": 41,
   "metadata": {},
   "outputs": [],
   "source": [
    "# METHOD 2: Count number of vechicles per NEWSUBCAT (using dplyr)\n",
    "# For now turned off because I used table which worked faster and no additional libraries\n",
    "\n",
    "# data %>% \n",
    "#   group_by(NEWSUBCAT) %>%\n",
    "#   summarise(no_rows = length(NEWSUBCAT))\n"
   ]
  }
 ],
 "metadata": {
  "kernelspec": {
   "display_name": "R",
   "language": "R",
   "name": "ir"
  },
  "language_info": {
   "codemirror_mode": "r",
   "file_extension": ".r",
   "mimetype": "text/x-r-source",
   "name": "R",
   "pygments_lexer": "r",
   "version": "3.6.1"
  }
 },
 "nbformat": 4,
 "nbformat_minor": 4
}
